{
 "cells": [
  {
   "cell_type": "code",
   "execution_count": 2,
   "id": "a4b647640be2ecb9",
   "metadata": {
    "ExecuteTime": {
     "end_time": "2025-01-10T13:40:13.343953Z",
     "start_time": "2025-01-10T13:40:13.340169Z"
    }
   },
   "outputs": [],
   "source": [
    "import os\n",
    "\n",
    "import numpy as np\n",
    "import matplotlib.pyplot as plt\n",
    "import generator\n",
    "import seaborn as sns\n",
    "\n",
    "sns.set_style(\"dark\")"
   ]
  },
  {
   "cell_type": "code",
   "execution_count": 3,
   "id": "356af4db08f9971b",
   "metadata": {
    "ExecuteTime": {
     "end_time": "2025-01-10T13:40:14.691112Z",
     "start_time": "2025-01-10T13:40:14.670155Z"
    }
   },
   "outputs": [],
   "source": [
    "%load_ext autoreload\n",
    "%autoreload 2"
   ]
  },
  {
   "cell_type": "code",
   "execution_count": 4,
   "id": "initial_id",
   "metadata": {
    "ExecuteTime": {
     "end_time": "2025-01-10T13:41:59.783073Z",
     "start_time": "2025-01-10T13:41:59.761146Z"
    }
   },
   "outputs": [],
   "source": [
    "length = 3\n",
    "wave_gen = generator.Sine(length=length)\n",
    "\n",
    "dense_rate = 8000\n",
    "dense_samples = wave_gen.sample(dense_rate)\n",
    "generator.save(dense_samples, f\"../testdata/sine_{dense_rate}_{length}_f64_ch1\")\n",
    "\n",
    "sparse_rate = 125\n",
    "sparse_samples = wave_gen.sample(sparse_rate)\n",
    "generator.save(sparse_samples, f\"../testdata/sine_{sparse_rate}_{length}_f64_ch1\")"
   ]
  }
 ],
 "metadata": {
  "kernelspec": {
   "display_name": "Python 3 (ipykernel)",
   "language": "python",
   "name": "python3"
  },
  "language_info": {
   "codemirror_mode": {
    "name": "ipython",
    "version": 3
   },
   "file_extension": ".py",
   "mimetype": "text/x-python",
   "name": "python",
   "nbconvert_exporter": "python",
   "pygments_lexer": "ipython3",
   "version": "3.10.12"
  }
 },
 "nbformat": 4,
 "nbformat_minor": 5
}
